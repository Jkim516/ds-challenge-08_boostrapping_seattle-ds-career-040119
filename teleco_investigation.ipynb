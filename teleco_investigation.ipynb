{
 "cells": [
  {
   "cell_type": "code",
   "execution_count": 194,
   "metadata": {},
   "outputs": [],
   "source": [
    "from scipy import stats\n",
    "from scipy.stats import binom as scs\n",
    "import numpy as np\n",
    "import matplotlib\n",
    "import matplotlib.pyplot as plt\n",
    "import pandas as pd\n",
    "%matplotlib inline"
   ]
  },
  {
   "cell_type": "code",
   "execution_count": 6,
   "metadata": {},
   "outputs": [],
   "source": [
    "df = pd.read_csv('telco-customer-churn.zip')"
   ]
  },
  {
   "cell_type": "code",
   "execution_count": 262,
   "metadata": {},
   "outputs": [
    {
     "data": {
      "text/plain": [
       "30.090047097678493"
      ]
     },
     "execution_count": 262,
     "metadata": {},
     "output_type": "execute_result"
    }
   ],
   "source": [
    "df['MonthlyCharges'].std()"
   ]
  },
  {
   "cell_type": "code",
   "execution_count": 10,
   "metadata": {},
   "outputs": [
    {
     "data": {
      "text/html": [
       "<div>\n",
       "<style scoped>\n",
       "    .dataframe tbody tr th:only-of-type {\n",
       "        vertical-align: middle;\n",
       "    }\n",
       "\n",
       "    .dataframe tbody tr th {\n",
       "        vertical-align: top;\n",
       "    }\n",
       "\n",
       "    .dataframe thead th {\n",
       "        text-align: right;\n",
       "    }\n",
       "</style>\n",
       "<table border=\"1\" class=\"dataframe\">\n",
       "  <thead>\n",
       "    <tr style=\"text-align: right;\">\n",
       "      <th></th>\n",
       "      <th>customerID</th>\n",
       "      <th>gender</th>\n",
       "      <th>SeniorCitizen</th>\n",
       "      <th>Partner</th>\n",
       "      <th>Dependents</th>\n",
       "      <th>tenure</th>\n",
       "      <th>PhoneService</th>\n",
       "      <th>MultipleLines</th>\n",
       "      <th>InternetService</th>\n",
       "      <th>OnlineSecurity</th>\n",
       "      <th>...</th>\n",
       "      <th>DeviceProtection</th>\n",
       "      <th>TechSupport</th>\n",
       "      <th>StreamingTV</th>\n",
       "      <th>StreamingMovies</th>\n",
       "      <th>Contract</th>\n",
       "      <th>PaperlessBilling</th>\n",
       "      <th>PaymentMethod</th>\n",
       "      <th>MonthlyCharges</th>\n",
       "      <th>TotalCharges</th>\n",
       "      <th>Churn</th>\n",
       "    </tr>\n",
       "  </thead>\n",
       "  <tbody>\n",
       "    <tr>\n",
       "      <th>0</th>\n",
       "      <td>7590-VHVEG</td>\n",
       "      <td>Female</td>\n",
       "      <td>0</td>\n",
       "      <td>Yes</td>\n",
       "      <td>No</td>\n",
       "      <td>1</td>\n",
       "      <td>No</td>\n",
       "      <td>No phone service</td>\n",
       "      <td>DSL</td>\n",
       "      <td>No</td>\n",
       "      <td>...</td>\n",
       "      <td>No</td>\n",
       "      <td>No</td>\n",
       "      <td>No</td>\n",
       "      <td>No</td>\n",
       "      <td>Month-to-month</td>\n",
       "      <td>Yes</td>\n",
       "      <td>Electronic check</td>\n",
       "      <td>29.85</td>\n",
       "      <td>29.85</td>\n",
       "      <td>No</td>\n",
       "    </tr>\n",
       "    <tr>\n",
       "      <th>1</th>\n",
       "      <td>5575-GNVDE</td>\n",
       "      <td>Male</td>\n",
       "      <td>0</td>\n",
       "      <td>No</td>\n",
       "      <td>No</td>\n",
       "      <td>34</td>\n",
       "      <td>Yes</td>\n",
       "      <td>No</td>\n",
       "      <td>DSL</td>\n",
       "      <td>Yes</td>\n",
       "      <td>...</td>\n",
       "      <td>Yes</td>\n",
       "      <td>No</td>\n",
       "      <td>No</td>\n",
       "      <td>No</td>\n",
       "      <td>One year</td>\n",
       "      <td>No</td>\n",
       "      <td>Mailed check</td>\n",
       "      <td>56.95</td>\n",
       "      <td>1889.5</td>\n",
       "      <td>No</td>\n",
       "    </tr>\n",
       "    <tr>\n",
       "      <th>2</th>\n",
       "      <td>3668-QPYBK</td>\n",
       "      <td>Male</td>\n",
       "      <td>0</td>\n",
       "      <td>No</td>\n",
       "      <td>No</td>\n",
       "      <td>2</td>\n",
       "      <td>Yes</td>\n",
       "      <td>No</td>\n",
       "      <td>DSL</td>\n",
       "      <td>Yes</td>\n",
       "      <td>...</td>\n",
       "      <td>No</td>\n",
       "      <td>No</td>\n",
       "      <td>No</td>\n",
       "      <td>No</td>\n",
       "      <td>Month-to-month</td>\n",
       "      <td>Yes</td>\n",
       "      <td>Mailed check</td>\n",
       "      <td>53.85</td>\n",
       "      <td>108.15</td>\n",
       "      <td>Yes</td>\n",
       "    </tr>\n",
       "    <tr>\n",
       "      <th>3</th>\n",
       "      <td>7795-CFOCW</td>\n",
       "      <td>Male</td>\n",
       "      <td>0</td>\n",
       "      <td>No</td>\n",
       "      <td>No</td>\n",
       "      <td>45</td>\n",
       "      <td>No</td>\n",
       "      <td>No phone service</td>\n",
       "      <td>DSL</td>\n",
       "      <td>Yes</td>\n",
       "      <td>...</td>\n",
       "      <td>Yes</td>\n",
       "      <td>Yes</td>\n",
       "      <td>No</td>\n",
       "      <td>No</td>\n",
       "      <td>One year</td>\n",
       "      <td>No</td>\n",
       "      <td>Bank transfer (automatic)</td>\n",
       "      <td>42.30</td>\n",
       "      <td>1840.75</td>\n",
       "      <td>No</td>\n",
       "    </tr>\n",
       "    <tr>\n",
       "      <th>4</th>\n",
       "      <td>9237-HQITU</td>\n",
       "      <td>Female</td>\n",
       "      <td>0</td>\n",
       "      <td>No</td>\n",
       "      <td>No</td>\n",
       "      <td>2</td>\n",
       "      <td>Yes</td>\n",
       "      <td>No</td>\n",
       "      <td>Fiber optic</td>\n",
       "      <td>No</td>\n",
       "      <td>...</td>\n",
       "      <td>No</td>\n",
       "      <td>No</td>\n",
       "      <td>No</td>\n",
       "      <td>No</td>\n",
       "      <td>Month-to-month</td>\n",
       "      <td>Yes</td>\n",
       "      <td>Electronic check</td>\n",
       "      <td>70.70</td>\n",
       "      <td>151.65</td>\n",
       "      <td>Yes</td>\n",
       "    </tr>\n",
       "  </tbody>\n",
       "</table>\n",
       "<p>5 rows × 21 columns</p>\n",
       "</div>"
      ],
      "text/plain": [
       "   customerID  gender  SeniorCitizen Partner Dependents  tenure PhoneService  \\\n",
       "0  7590-VHVEG  Female              0     Yes         No       1           No   \n",
       "1  5575-GNVDE    Male              0      No         No      34          Yes   \n",
       "2  3668-QPYBK    Male              0      No         No       2          Yes   \n",
       "3  7795-CFOCW    Male              0      No         No      45           No   \n",
       "4  9237-HQITU  Female              0      No         No       2          Yes   \n",
       "\n",
       "      MultipleLines InternetService OnlineSecurity  ...  DeviceProtection  \\\n",
       "0  No phone service             DSL             No  ...                No   \n",
       "1                No             DSL            Yes  ...               Yes   \n",
       "2                No             DSL            Yes  ...                No   \n",
       "3  No phone service             DSL            Yes  ...               Yes   \n",
       "4                No     Fiber optic             No  ...                No   \n",
       "\n",
       "  TechSupport StreamingTV StreamingMovies        Contract PaperlessBilling  \\\n",
       "0          No          No              No  Month-to-month              Yes   \n",
       "1          No          No              No        One year               No   \n",
       "2          No          No              No  Month-to-month              Yes   \n",
       "3         Yes          No              No        One year               No   \n",
       "4          No          No              No  Month-to-month              Yes   \n",
       "\n",
       "               PaymentMethod MonthlyCharges  TotalCharges Churn  \n",
       "0           Electronic check          29.85         29.85    No  \n",
       "1               Mailed check          56.95        1889.5    No  \n",
       "2               Mailed check          53.85        108.15   Yes  \n",
       "3  Bank transfer (automatic)          42.30       1840.75    No  \n",
       "4           Electronic check          70.70        151.65   Yes  \n",
       "\n",
       "[5 rows x 21 columns]"
      ]
     },
     "execution_count": 10,
     "metadata": {},
     "output_type": "execute_result"
    }
   ],
   "source": [
    "df.head()"
   ]
  },
  {
   "cell_type": "code",
   "execution_count": 14,
   "metadata": {},
   "outputs": [],
   "source": [
    "df1 = df[['customerID', 'gender', 'MonthlyCharges']]"
   ]
  },
  {
   "cell_type": "code",
   "execution_count": 16,
   "metadata": {},
   "outputs": [
    {
     "data": {
      "text/html": [
       "<div>\n",
       "<style scoped>\n",
       "    .dataframe tbody tr th:only-of-type {\n",
       "        vertical-align: middle;\n",
       "    }\n",
       "\n",
       "    .dataframe tbody tr th {\n",
       "        vertical-align: top;\n",
       "    }\n",
       "\n",
       "    .dataframe thead th {\n",
       "        text-align: right;\n",
       "    }\n",
       "</style>\n",
       "<table border=\"1\" class=\"dataframe\">\n",
       "  <thead>\n",
       "    <tr style=\"text-align: right;\">\n",
       "      <th></th>\n",
       "      <th>customerID</th>\n",
       "      <th>gender</th>\n",
       "      <th>MonthlyCharges</th>\n",
       "    </tr>\n",
       "  </thead>\n",
       "  <tbody>\n",
       "    <tr>\n",
       "      <th>0</th>\n",
       "      <td>7590-VHVEG</td>\n",
       "      <td>Female</td>\n",
       "      <td>29.85</td>\n",
       "    </tr>\n",
       "    <tr>\n",
       "      <th>1</th>\n",
       "      <td>5575-GNVDE</td>\n",
       "      <td>Male</td>\n",
       "      <td>56.95</td>\n",
       "    </tr>\n",
       "    <tr>\n",
       "      <th>2</th>\n",
       "      <td>3668-QPYBK</td>\n",
       "      <td>Male</td>\n",
       "      <td>53.85</td>\n",
       "    </tr>\n",
       "    <tr>\n",
       "      <th>3</th>\n",
       "      <td>7795-CFOCW</td>\n",
       "      <td>Male</td>\n",
       "      <td>42.30</td>\n",
       "    </tr>\n",
       "    <tr>\n",
       "      <th>4</th>\n",
       "      <td>9237-HQITU</td>\n",
       "      <td>Female</td>\n",
       "      <td>70.70</td>\n",
       "    </tr>\n",
       "  </tbody>\n",
       "</table>\n",
       "</div>"
      ],
      "text/plain": [
       "   customerID  gender  MonthlyCharges\n",
       "0  7590-VHVEG  Female           29.85\n",
       "1  5575-GNVDE    Male           56.95\n",
       "2  3668-QPYBK    Male           53.85\n",
       "3  7795-CFOCW    Male           42.30\n",
       "4  9237-HQITU  Female           70.70"
      ]
     },
     "execution_count": 16,
     "metadata": {},
     "output_type": "execute_result"
    }
   ],
   "source": [
    "df1.head()"
   ]
  },
  {
   "cell_type": "code",
   "execution_count": 52,
   "metadata": {},
   "outputs": [
    {
     "data": {
      "text/html": [
       "<div>\n",
       "<style scoped>\n",
       "    .dataframe tbody tr th:only-of-type {\n",
       "        vertical-align: middle;\n",
       "    }\n",
       "\n",
       "    .dataframe tbody tr th {\n",
       "        vertical-align: top;\n",
       "    }\n",
       "\n",
       "    .dataframe thead th {\n",
       "        text-align: right;\n",
       "    }\n",
       "</style>\n",
       "<table border=\"1\" class=\"dataframe\">\n",
       "  <thead>\n",
       "    <tr style=\"text-align: right;\">\n",
       "      <th></th>\n",
       "      <th>customerID</th>\n",
       "      <th>gender</th>\n",
       "      <th>MonthlyCharges</th>\n",
       "    </tr>\n",
       "  </thead>\n",
       "  <tbody>\n",
       "    <tr>\n",
       "      <th>0</th>\n",
       "      <td>7590-VHVEG</td>\n",
       "      <td>Female</td>\n",
       "      <td>29.85</td>\n",
       "    </tr>\n",
       "    <tr>\n",
       "      <th>4</th>\n",
       "      <td>9237-HQITU</td>\n",
       "      <td>Female</td>\n",
       "      <td>70.70</td>\n",
       "    </tr>\n",
       "    <tr>\n",
       "      <th>5</th>\n",
       "      <td>9305-CDSKC</td>\n",
       "      <td>Female</td>\n",
       "      <td>99.65</td>\n",
       "    </tr>\n",
       "    <tr>\n",
       "      <th>7</th>\n",
       "      <td>6713-OKOMC</td>\n",
       "      <td>Female</td>\n",
       "      <td>29.75</td>\n",
       "    </tr>\n",
       "    <tr>\n",
       "      <th>8</th>\n",
       "      <td>7892-POOKP</td>\n",
       "      <td>Female</td>\n",
       "      <td>104.80</td>\n",
       "    </tr>\n",
       "  </tbody>\n",
       "</table>\n",
       "</div>"
      ],
      "text/plain": [
       "   customerID  gender  MonthlyCharges\n",
       "0  7590-VHVEG  Female           29.85\n",
       "4  9237-HQITU  Female           70.70\n",
       "5  9305-CDSKC  Female           99.65\n",
       "7  6713-OKOMC  Female           29.75\n",
       "8  7892-POOKP  Female          104.80"
      ]
     },
     "execution_count": 52,
     "metadata": {},
     "output_type": "execute_result"
    }
   ],
   "source": [
    "female_df = df1.loc[df1['gender']==\"Female\"]\n",
    "female_df.head()"
   ]
  },
  {
   "cell_type": "code",
   "execution_count": 55,
   "metadata": {},
   "outputs": [
    {
     "data": {
      "text/html": [
       "<div>\n",
       "<style scoped>\n",
       "    .dataframe tbody tr th:only-of-type {\n",
       "        vertical-align: middle;\n",
       "    }\n",
       "\n",
       "    .dataframe tbody tr th {\n",
       "        vertical-align: top;\n",
       "    }\n",
       "\n",
       "    .dataframe thead th {\n",
       "        text-align: right;\n",
       "    }\n",
       "</style>\n",
       "<table border=\"1\" class=\"dataframe\">\n",
       "  <thead>\n",
       "    <tr style=\"text-align: right;\">\n",
       "      <th></th>\n",
       "      <th>customerID</th>\n",
       "      <th>gender</th>\n",
       "      <th>MonthlyCharges</th>\n",
       "    </tr>\n",
       "  </thead>\n",
       "  <tbody>\n",
       "    <tr>\n",
       "      <th>1</th>\n",
       "      <td>5575-GNVDE</td>\n",
       "      <td>Male</td>\n",
       "      <td>56.95</td>\n",
       "    </tr>\n",
       "    <tr>\n",
       "      <th>2</th>\n",
       "      <td>3668-QPYBK</td>\n",
       "      <td>Male</td>\n",
       "      <td>53.85</td>\n",
       "    </tr>\n",
       "    <tr>\n",
       "      <th>3</th>\n",
       "      <td>7795-CFOCW</td>\n",
       "      <td>Male</td>\n",
       "      <td>42.30</td>\n",
       "    </tr>\n",
       "    <tr>\n",
       "      <th>6</th>\n",
       "      <td>1452-KIOVK</td>\n",
       "      <td>Male</td>\n",
       "      <td>89.10</td>\n",
       "    </tr>\n",
       "    <tr>\n",
       "      <th>9</th>\n",
       "      <td>6388-TABGU</td>\n",
       "      <td>Male</td>\n",
       "      <td>56.15</td>\n",
       "    </tr>\n",
       "  </tbody>\n",
       "</table>\n",
       "</div>"
      ],
      "text/plain": [
       "   customerID gender  MonthlyCharges\n",
       "1  5575-GNVDE   Male           56.95\n",
       "2  3668-QPYBK   Male           53.85\n",
       "3  7795-CFOCW   Male           42.30\n",
       "6  1452-KIOVK   Male           89.10\n",
       "9  6388-TABGU   Male           56.15"
      ]
     },
     "execution_count": 55,
     "metadata": {},
     "output_type": "execute_result"
    }
   ],
   "source": [
    "male_df = df1.loc[df1['gender']==\"Male\"]\n",
    "male_df.head()"
   ]
  },
  {
   "cell_type": "code",
   "execution_count": 95,
   "metadata": {},
   "outputs": [],
   "source": [
    "male_df1 = male_df['MonthlyCharges']"
   ]
  },
  {
   "cell_type": "code",
   "execution_count": 106,
   "metadata": {},
   "outputs": [],
   "source": [
    "female_df1 = female_df['MonthlyCharges']"
   ]
  },
  {
   "cell_type": "code",
   "execution_count": 56,
   "metadata": {},
   "outputs": [],
   "source": [
    "female_monthlycharges_mean = female_df.MonthlyCharges.mean()\n",
    "female_monthlycharges_std = female_df.MonthlyCharges.std()\n",
    "male_monthlycharges_mean = male_df.MonthlyCharges.mean()\n",
    "male_monthlycharges_std = male_df.MonthlyCharges.std()"
   ]
  },
  {
   "cell_type": "code",
   "execution_count": 33,
   "metadata": {},
   "outputs": [],
   "source": [
    "monthlycharges_mean = df1.MonthlyCharges.mean()"
   ]
  },
  {
   "cell_type": "code",
   "execution_count": 80,
   "metadata": {},
   "outputs": [],
   "source": [
    "monthlycharges_std = df1.MonthlyCharges.std()"
   ]
  },
  {
   "cell_type": "code",
   "execution_count": null,
   "metadata": {},
   "outputs": [],
   "source": [
    "# Male / Female"
   ]
  },
  {
   "cell_type": "code",
   "execution_count": 98,
   "metadata": {},
   "outputs": [],
   "source": [
    "sample_male = np.random.choice(male_df1)"
   ]
  },
  {
   "cell_type": "code",
   "execution_count": 99,
   "metadata": {},
   "outputs": [
    {
     "data": {
      "text/plain": [
       "array([ 85.35,  59.3 ,  26.05,  65.6 ,  69.55,  80.8 ,  75.2 ,  45.25,\n",
       "        69.8 ,  19.9 ,  20.  ,  80.3 ,  55.8 ,  35.6 ,  89.55,  55.45,\n",
       "        23.15,  24.4 , 109.3 ,  97.65,  19.35,  65.6 ,  96.1 ,  93.35,\n",
       "        48.55,  69.35,  54.95,  98.05,  54.65,  23.55,  50.9 ,  20.  ,\n",
       "        84.05,  26.35,  64.3 ,  20.  ,  84.85,  20.25,  85.25,  85.3 ,\n",
       "        19.95,  68.5 ,  54.55,  85.6 ,  19.55, 101.8 ,  73.05,  74.85,\n",
       "        20.45,  25.2 ,  20.1 ,  61.3 , 100.55, 105.25, 104.9 ,  50.05,\n",
       "        75.75, 104.8 , 104.05,  61.9 ,  90.5 ,  88.4 ,  48.8 , 104.9 ,\n",
       "        66.25,  20.2 ,  54.75, 103.  ,  88.95,  24.95,  49.3 ,  19.25,\n",
       "        43.55,  49.05,  24.8 ,  99.95,  94.9 ,  25.1 ,  89.2 ,  20.2 ,\n",
       "        70.6 ,  20.3 ,  92.95,  94.95,  76.  ,  80.8 ,  82.85,  99.45,\n",
       "        94.85, 100.35,  69.55,  64.4 ,  85.5 ,  74.85,  90.7 ,  30.1 ,\n",
       "        82.3 ,  73.55,  64.95,  25.3 ,  79.45,  20.1 ,  60.35,  81.7 ,\n",
       "       105.2 ,  24.8 , 108.4 ,  70.65, 106.2 ,  54.55,  20.3 ,  92.15,\n",
       "       105.  , 100.65,  44.45,  78.45, 100.95,  92.95,  19.8 ,  81.3 ,\n",
       "        50.2 ,  81.6 ,  50.3 ,  79.85, 104.4 ,  90.15,  89.8 , 105.75,\n",
       "        85.6 ,  74.6 ,  69.15,  89.35,  20.95,  85.85,  65.  ,  53.65,\n",
       "        43.7 ,  19.2 ,  20.35,  85.7 ,  80.35,  86.05,  20.5 ,  48.7 ,\n",
       "        74.9 ,  50.8 ,  84.1 ,  20.05,  85.65, 113.15,  69.85,  19.95,\n",
       "        25.6 ,  90.6 ,  69.6 ,  30.4 ,  79.55,  79.55,  96.1 ,  89.75,\n",
       "        19.95, 100.3 ,  23.9 ,  95.9 ,  25.4 , 100.2 , 100.95,  93.35,\n",
       "        45.85,  39.3 ,  19.2 ,  65.75, 109.9 ,  74.95,  59.65,  74.4 ,\n",
       "        19.65,  46.3 , 108.65,  96.  ,  85.95,  77.9 , 104.15,  94.7 ,\n",
       "        84.2 ,  29.8 ,  96.6 ,  97.65,  59.8 ,  93.95, 108.9 ,  86.85,\n",
       "        19.95,  59.9 , 109.95,  20.35,  45.7 ,  89.05,  19.95,  89.8 ,\n",
       "       103.4 ,  19.55,  20.85,  79.75,  19.85,  54.45, 109.75, 105.7 ,\n",
       "        20.05,  63.7 ,  48.7 ,  39.  ,  66.4 ,  75.25, 109.3 ,  34.  ,\n",
       "        94.  ,  19.55,  99.35,  62.05,  70.6 ,  45.45,  40.05,  20.55,\n",
       "        95.45,  35.65,  98.35,  70.95,  44.95,  59.8 ,  67.05,  91.25,\n",
       "        24.55,  54.3 ,  25.1 ,  39.6 , 100.95,  86.55,  74.  , 114.1 ,\n",
       "        89.  ,  89.65,  91.55,  19.9 ,  45.9 ,  61.15, 112.55,  84.9 ,\n",
       "        43.35,  75.4 ,  19.15,  84.8 ,  95.4 ,  19.5 ,  19.5 ,  84.55,\n",
       "        56.8 ,  66.25,  49.8 ,  85.45, 109.05,  89.95,  40.2 ,  89.9 ,\n",
       "        85.85,  49.15,  65.55,  45.85, 100.1 , 109.65,  20.05,  49.85,\n",
       "        86.7 ,  77.  ,  98.05, 103.8 ,  19.4 ,  54.75, 110.9 ,  24.45,\n",
       "        57.5 , 107.25,  41.6 ,  70.35,  55.05, 100.2 ,  85.85,  55.7 ,\n",
       "        23.4 ,  19.55,  92.45,  80.5 ,  54.3 ,  20.3 ,  71.35,  20.1 ,\n",
       "        74.3 ,  49.65,  75.5 ,  99.  ,  64.65,  71.55,  64.8 ,  54.75,\n",
       "        25.55,  29.65,  75.05,  86.85,  69.75,  51.25,  24.8 ,  54.  ,\n",
       "        29.35,  46.  ,  35.5 ,  85.  ,  20.5 ,  50.8 , 109.3 ,  85.35,\n",
       "        29.9 ,  92.5 ,  24.6 , 111.2 ,  20.3 ,  19.4 , 110.35,  65.35,\n",
       "        54.5 ,  19.8 ,  90.7 ,  25.15,  66.65,  89.3 , 104.5 ,  44.9 ,\n",
       "        87.  , 100.6 ,  80.65, 109.95,  20.8 ,  19.4 ,  20.05,  39.  ,\n",
       "        19.65,  55.45,  49.  ,  73.6 ,  49.75,  84.  ,  20.1 ,  43.55,\n",
       "        21.1 ,  20.6 ,  81.45,  70.8 ,  41.95, 101.4 ,  92.5 ,  19.55,\n",
       "        89.35,  75.1 , 114.3 ,  95.95,  19.55,  55.8 , 105.1 ,  64.8 ,\n",
       "        80.4 ,  55.8 ,  84.2 ,  74.3 ,  80.1 ,  75.2 ,  69.1 ,  86.7 ,\n",
       "        20.55,  90.65,  46.35,  18.8 ,  85.6 ,  53.35,  99.25, 105.3 ,\n",
       "       105.05, 105.05,  73.9 , 104.8 ,  94.9 , 105.95, 108.4 , 103.4 ,\n",
       "        24.75,  95.4 ,  79.  ,  19.25,  19.65,  91.05,  84.9 ,  65.65,\n",
       "        54.8 , 118.2 ,  21.2 ,  86.05,  95.2 ,  79.65,  42.35, 108.45,\n",
       "        19.9 ,  79.6 ,  80.6 , 102.95,  75.3 ,  90.25, 114.45,  24.1 ,\n",
       "        99.45,  35.9 , 106.4 ,  20.7 ,  88.2 ,  85.7 ,  75.7 ,  64.15,\n",
       "        50.35,  91.95,  90.5 ,  80.9 ,  24.15,  75.5 ,  18.95,  21.25,\n",
       "        94.7 ,  49.2 ,  56.8 ,  44.95, 114.95,  96.6 ,  34.2 ,  20.5 ,\n",
       "        25.75,  83.95,  19.5 ,  74.65, 116.6 ,  70.  ,  20.85,  24.85,\n",
       "        20.85,  98.55,  18.8 ,  69.95,  74.95, 114.05,  35.4 ,  19.75,\n",
       "        99.15,  19.2 ,  61.35,  69.  ,  45.45,  70.15,  53.15,  73.25,\n",
       "        19.9 ,  24.65,  20.  ,  55.85,  24.9 ,  89.55,  88.85,  95.95,\n",
       "        81.4 ,  61.4 ,  89.5 ,  24.25,  56.3 ,  85.2 ,  19.9 ,  96.5 ,\n",
       "        21.05,  50.35,  19.4 ,  65.6 ,  80.45,  20.45,  69.9 ,  49.3 ,\n",
       "        24.8 ,  64.2 ,  44.4 ,  19.3 ,  96.1 ,  59.45,  73.  ,  19.85,\n",
       "        44.75,  67.2 ,  19.6 ,  20.75,  70.35,  19.2 ,  90.35,  91.7 ,\n",
       "        69.9 ,  74.35,  90.6 ,  97.75,  97.95,  30.4 ,  90.15, 116.95,\n",
       "        95.1 ,  64.15, 115.05,  79.6 ,  55.8 ,  54.95,  92.  ,  35.6 ,\n",
       "        84.8 ,  99.25,  56.75,  23.95,  90.05,  49.5 ,  53.75,  74.15,\n",
       "       101.5 ,  65.65,  21.05,  64.65,  91.15,  19.95,  20.75,  61.65,\n",
       "        45.45,  40.2 , 109.75,  99.3 ,  19.4 ,  75.7 ,  20.05,  72.85,\n",
       "        75.7 ,  74.  , 109.2 ,  20.5 ,  65.6 ,  20.65,  74.9 ,  76.1 ,\n",
       "        84.8 ,  20.55,  70.65, 102.1 ,  19.55, 101.05,  20.05,  36.1 ,\n",
       "        59.  ,  19.8 ,  25.6 , 104.05,  80.  ,  94.55, 104.25,  94.8 ,\n",
       "       110.1 ,  56.7 ,  96.1 , 113.75,  99.95,  72.95,  61.1 ,  74.4 ,\n",
       "        93.85,  59.8 , 109.7 ,  74.4 , 104.  ,  70.2 ,  24.4 ,  24.8 ,\n",
       "        85.55,  94.8 ,  20.55,  88.2 ,  65.25,  24.  ,  69.55,  20.1 ,\n",
       "        75.2 , 103.4 ,  51.8 ,  69.85,  94.55,  19.65,  25.6 ,  44.95,\n",
       "        20.85,  53.35,  75.7 ,  80.6 ,  96.7 , 114.45,  19.65, 103.95,\n",
       "        30.35,  70.3 ,  54.55,  45.6 ,  20.  , 104.05,  39.6 , 110.75,\n",
       "        83.8 ,  83.5 ,  50.05,  49.8 ,  20.  ,  68.05, 104.9 ,  80.55,\n",
       "        20.95,  24.8 , 101.25,  80.1 , 105.2 ,  19.4 ,  85.75,  86.85,\n",
       "        21.2 ,  24.75,  54.4 , 111.15,  98.25,  20.85, 100.6 ,  19.95,\n",
       "        90.5 ,  19.65,  74.95,  88.35,  66.4 , 106.3 ,  30.5 ,  85.3 ,\n",
       "        71.55,  49.55,  24.8 , 104.1 ,  20.  , 104.3 ,  85.15,  19.8 ,\n",
       "       104.  ,  71.75,  67.5 ,  90.35,  55.8 ,  63.25,  24.45,  60.9 ,\n",
       "       108.1 , 105.9 ,  61.3 ,  19.7 ,  94.1 , 108.45,  80.9 , 110.75,\n",
       "        20.75,  19.  ,  63.95,  43.45,  19.95,  20.05,  94.05, 108.65,\n",
       "        86.05,  68.15,  75.5 ,  89.8 ,  70.25,  19.75,  20.95,  83.8 ,\n",
       "        79.85,  30.2 ,  25.1 ,  92.4 ,  85.9 ,  20.15,  25.15,  18.55,\n",
       "        60.25, 114.35,  19.65,  75.35,  45.35,  74.6 ,  95.65,  25.25,\n",
       "        44.65,  26.4 ,  75.85,  75.35,  71.6 ,  19.75,  90.45,  19.6 ,\n",
       "        25.75,  19.65,  95.55,  83.85,  70.25,  54.8 , 116.6 ,  44.95,\n",
       "        60.5 ,  80.6 ,  96.1 ,  89.7 ,  94.5 ,  99.45,  95.7 ,  19.85,\n",
       "        50.35,  30.2 ,  20.  ,  20.15,  19.25,  50.35,  54.65,  50.4 ,\n",
       "        85.55,  25.1 ,  25.25,  25.3 ,  39.2 ,  94.75,  84.3 ,  53.75,\n",
       "        70.45,  19.35,  50.35, 101.35, 105.55,  50.9 ,  84.  ,  38.5 ,\n",
       "        20.05,  20.35,  19.55,  20.6 ,  50.8 ,  61.25,  19.4 ,  99.7 ,\n",
       "        71.05,  19.4 ,  19.75,  20.1 ,  99.  ,  79.3 ,  19.75, 104.05,\n",
       "        50.15,  80.5 ,  20.25,  99.5 ,  19.9 ,  19.75, 110.  ,  69.1 ,\n",
       "        48.55,  83.55,  43.7 ,  88.  ,  84.35,  24.95,  73.85,  75.1 ,\n",
       "        24.7 ,  43.45,  40.  ,  89.8 ,  25.25,  81.3 ,  78.  ,  25.55,\n",
       "        55.45,  94.1 ,  90.8 ,  40.55,  29.45,  74.35,  99.3 ,  20.4 ,\n",
       "        25.4 ,  24.9 ,  86.7 ,  69.9 ,  94.3 , 110.  , 100.65,  18.8 ,\n",
       "       103.85,  55.7 ,  53.6 , 100.55, 100.75,  68.85, 117.8 ,  19.5 ,\n",
       "       108.95,  56.65,  19.7 ,  79.4 ,  49.3 , 100.85,  75.3 , 105.25,\n",
       "        83.4 ,  53.5 , 110.35,  61.4 ,  78.6 ,  84.8 ,  45.8 ,  81.45,\n",
       "        80.5 ,  20.3 ,  60.9 ,  44.85,  69.1 , 114.3 ,  69.75,  95.45,\n",
       "        19.05,  19.95, 105.3 ,  19.8 ,  92.15,  62.65,  18.95,  35.4 ,\n",
       "        20.15,  26.45,  19.95,  19.1 ,  84.9 , 103.15,  60.2 ,  46.35,\n",
       "        20.2 ,  35.75,  84.9 ,  19.15,  20.55,  94.25,  89.9 ,  20.8 ,\n",
       "        19.55, 100.75,  24.25,  79.6 ,  90.35,  76.  , 105.5 ,  81.95,\n",
       "       104.45,  19.4 ,  77.3 ,  19.75, 104.8 ,  24.9 ,  54.7 ,  64.4 ,\n",
       "        20.2 ,  97.55,  89.4 , 105.4 ,  90.45,  59.75,  20.  , 101.3 ,\n",
       "        25.3 ,  79.3 ,  59.8 ,  79.25,  24.85, 103.1 ,  90.85,  75.5 ,\n",
       "        90.35,  93.  ,  65.75,  35.4 , 108.95,  25.9 ,  25.05,  80.25,\n",
       "        24.55,  84.3 ,  99.8 , 107.2 , 107.7 ,  44.55,  34.3 ,  70.45,\n",
       "        69.7 ,  56.9 , 103.15,  29.95,  79.85, 104.65,  20.  ,  95.7 ,\n",
       "        25.75,  79.15,  81.15, 115.55,  83.55,  95.25,  85.15,  73.55,\n",
       "        64.95,  25.45,  25.25,  75.75,  23.55, 114.7 , 101.5 ,  74.25,\n",
       "        20.15,  99.85,  78.45,  19.35,  76.2 ,  25.15, 109.75,  90.2 ,\n",
       "        19.1 ,  19.7 ,  78.75, 101.7 ,  59.  ,  20.  ,  65.6 ,  51.7 ,\n",
       "        64.95, 109.65,  88.95,  44.65,  85.5 ,  44.85,  89.85,  40.65,\n",
       "        57.95,  50.45,  19.95,  74.85,  65.6 ,  70.95,  64.05,  20.35,\n",
       "        71.35,  19.3 ,  44.15,  54.1 ,  19.05, 100.7 ,  20.75,  19.95,\n",
       "        63.75,  43.3 ,  20.45,  20.35,  19.25,  78.75,  95.6 ,  20.75,\n",
       "        70.2 ,  55.15, 102.5 ,  69.1 ,  64.05,  61.4 ,  69.25, 101.  ,\n",
       "        92.55,  93.85,  53.65,  89.05,  89.4 , 109.95,  69.7 ,  19.55])"
      ]
     },
     "execution_count": 99,
     "metadata": {},
     "output_type": "execute_result"
    }
   ],
   "source": [
    "sample_male"
   ]
  },
  {
   "cell_type": "code",
   "execution_count": 100,
   "metadata": {},
   "outputs": [
    {
     "data": {
      "text/plain": [
       "1000"
      ]
     },
     "execution_count": 100,
     "metadata": {},
     "output_type": "execute_result"
    }
   ],
   "source": [
    "len(sample_male)"
   ]
  },
  {
   "cell_type": "code",
   "execution_count": 102,
   "metadata": {},
   "outputs": [
    {
     "data": {
      "text/plain": [
       "63.89245"
      ]
     },
     "execution_count": 102,
     "metadata": {},
     "output_type": "execute_result"
    }
   ],
   "source": [
    "sample_male.mean()"
   ]
  },
  {
   "cell_type": "code",
   "execution_count": 176,
   "metadata": {},
   "outputs": [],
   "source": [
    "bootstrap_samples_male = []\n",
    "bootstrap_sample_means_male = np.zeros(1000)\n",
    "for i in range(1000):\n",
    "    bootstrap_sample = np.random.choice(sample_male, size=1000)\n",
    "    bootstrap_samples.append(bootstrap_sample)\n",
    "    bootstrap_sample_means_male[i] = bootstrap_sample.mean()"
   ]
  },
  {
   "cell_type": "code",
   "execution_count": 168,
   "metadata": {},
   "outputs": [
    {
     "name": "stdout",
     "output_type": "stream",
     "text": [
      "1000\n",
      "63.869337449999996\n"
     ]
    },
    {
     "data": {
      "text/plain": [
       "array([64.4136 , 63.52515, 64.1272 , 61.4494 , 65.1899 , 63.4415 ,\n",
       "       62.36575, 62.6628 , 65.9744 , 65.0158 ])"
      ]
     },
     "execution_count": 168,
     "metadata": {},
     "output_type": "execute_result"
    }
   ],
   "source": [
    "print(len(bootstrap_sample_means_male))\n",
    "print(bootstrap_sample_means_male.mean())\n",
    "bootstrap_sample_means_male[:10]"
   ]
  },
  {
   "cell_type": "code",
   "execution_count": 177,
   "metadata": {},
   "outputs": [
    {
     "data": {
      "text/plain": [
       "(array([ 10.,  47., 107., 218., 233., 195., 126.,  48.,  15.,   1.]),\n",
       " array([61.1196 , 61.73989, 62.36018, 62.98047, 63.60076, 64.22105,\n",
       "        64.84134, 65.46163, 66.08192, 66.70221, 67.3225 ]),\n",
       " <a list of 10 Patch objects>)"
      ]
     },
     "execution_count": 177,
     "metadata": {},
     "output_type": "execute_result"
    },
    {
     "data": {
      "image/png": "[encoded data removed]",
      "text/plain": [
       "<Figure size 432x288 with 1 Axes>"
      ]
     },
     "metadata": {
      "needs_background": "light"
     },
     "output_type": "display_data"
    }
   ],
   "source": [
    "plt.hist(bootstrap_sample_means_male)"
   ]
  },
  {
   "cell_type": "code",
   "execution_count": 139,
   "metadata": {},
   "outputs": [],
   "source": [
    "sample_female = np.random.choice(female_df1, size=1000)"
   ]
  },
  {
   "cell_type": "code",
   "execution_count": 140,
   "metadata": {},
   "outputs": [
    {
     "data": {
      "text/plain": [
       "1000"
      ]
     },
     "execution_count": 140,
     "metadata": {},
     "output_type": "execute_result"
    }
   ],
   "source": [
    "len(sample_female)"
   ]
  },
  {
   "cell_type": "code",
   "execution_count": 141,
   "metadata": {},
   "outputs": [
    {
     "data": {
      "text/plain": [
       "65.39725"
      ]
     },
     "execution_count": 141,
     "metadata": {},
     "output_type": "execute_result"
    }
   ],
   "source": [
    "sample_female.mean()"
   ]
  },
  {
   "cell_type": "code",
   "execution_count": 144,
   "metadata": {},
   "outputs": [],
   "source": [
    "bootstrap_samples_female = []\n",
    "bootstrap_sample_means_female = np.zeros(1000)\n",
    "for i in range(1000):\n",
    "    bootstrap_sample = np.random.choice(sample_female, size=1000)\n",
    "    bootstrap_samples.append(bootstrap_sample)\n",
    "    bootstrap_sample_means_female[i] = bootstrap_sample.mean()"
   ]
  },
  {
   "cell_type": "code",
   "execution_count": 145,
   "metadata": {},
   "outputs": [
    {
     "name": "stdout",
     "output_type": "stream",
     "text": [
      "1000\n",
      "65.416418\n"
     ]
    },
    {
     "data": {
      "text/plain": [
       "array([64.59215, 65.9974 , 64.7925 , 65.88585, 65.4914 , 64.5182 ,\n",
       "       65.50595, 66.37345, 65.7066 , 64.3263 ])"
      ]
     },
     "execution_count": 145,
     "metadata": {},
     "output_type": "execute_result"
    }
   ],
   "source": [
    "print(len(bootstrap_sample_means_female))\n",
    "print(bootstrap_sample_means_female.mean())\n",
    "bootstrap_sample_means_female[:10]"
   ]
  },
  {
   "cell_type": "code",
   "execution_count": 146,
   "metadata": {},
   "outputs": [
    {
     "data": {
      "text/plain": [
       "(array([  9.,  19.,  64., 148., 212., 240., 180.,  92.,  32.,   4.]),\n",
       " array([62.33115, 62.92988, 63.52861, 64.12734, 64.72607, 65.3248 ,\n",
       "        65.92353, 66.52226, 67.12099, 67.71972, 68.31845]),\n",
       " <a list of 10 Patch objects>)"
      ]
     },
     "execution_count": 146,
     "metadata": {},
     "output_type": "execute_result"
    },
    {
     "data": {
      "image/png": "[encoded data removed]",
      "text/plain": [
       "<Figure size 432x288 with 1 Axes>"
      ]
     },
     "metadata": {
      "needs_background": "light"
     },
     "output_type": "display_data"
    }
   ],
   "source": [
    "plt.hist(bootstrap_sample_means_female)"
   ]
  },
  {
   "cell_type": "code",
   "execution_count": 179,
   "metadata": {},
   "outputs": [
    {
     "name": "stdout",
     "output_type": "stream",
     "text": [
      "(3555,)\n",
      "(3488, 3)\n"
     ]
    }
   ],
   "source": [
    "print(male_df1.shape)\n",
    "print(female_df.shape)"
   ]
  },
  {
   "cell_type": "code",
   "execution_count": 217,
   "metadata": {},
   "outputs": [],
   "source": [
    "bootstrap_samples_male = []\n",
    "bootstrap_sample_means_male = np.zeros(1000)\n",
    "for i in range(1000):\n",
    "    bootstrap_sample = np.random.choice(sample_male, size=3555)\n",
    "    bootstrap_samples.append(bootstrap_sample)\n",
    "    bootstrap_sample_means_male[i] = bootstrap_sample.mean()\n",
    "    \n",
    "bootstrap_samples_female = []\n",
    "bootstrap_sample_means_female = np.zeros(1000)\n",
    "for i in range(1000):\n",
    "    bootstrap_sample = np.random.choice(sample_female, size=3488)\n",
    "    bootstrap_samples.append(bootstrap_sample)\n",
    "    bootstrap_sample_means_female[i] = bootstrap_sample.mean()"
   ]
  },
  {
   "cell_type": "code",
   "execution_count": 221,
   "metadata": {},
   "outputs": [
    {
     "data": {
      "image/png": "[encoded data removed]",
      "text/plain": [
       "<Figure size 1296x576 with 1 Axes>"
      ]
     },
     "metadata": {
      "needs_background": "light"
     },
     "output_type": "display_data"
    }
   ],
   "source": [
    "fig, ax = plt.subplots(ncols=1, nrows=1, figsize=(18,8))\n",
    "plt.hist(bootstrap_sample_means_male, alpha=0.7, label='male')\n",
    "plt.hist(bootstrap_sample_means_female, alpha=0.7, label='female')\n",
    "ax.legend(['male','female'])\n",
    "plt.show()"
   ]
  },
  {
   "cell_type": "code",
   "execution_count": 231,
   "metadata": {},
   "outputs": [
    {
     "name": "stdout",
     "output_type": "stream",
     "text": [
      "Male:\n",
      "62.90049718706047\n",
      "64.88430098452883\n",
      "\n",
      "\n",
      "Female:\n",
      "64.43209038130733\n",
      "66.47895247993118\n"
     ]
    }
   ],
   "source": [
    "print(\"Male:\") \n",
    "print(np.percentile(a=bootstrap_sample_means_male, q=2.5))\n",
    "print(np.percentile(a=bootstrap_sample_means_male, q=97.5))\n",
    "print('\\n')\n",
    "print(\"Female:\") \n",
    "print(np.percentile(a=bootstrap_sample_means_female, q=2.5))\n",
    "print(np.percentile(a=bootstrap_sample_means_female, q=97.5))"
   ]
  },
  {
   "cell_type": "code",
   "execution_count": 228,
   "metadata": {},
   "outputs": [
    {
     "data": {
      "text/plain": [
       "0.989"
      ]
     },
     "execution_count": 228,
     "metadata": {},
     "output_type": "execute_result"
    }
   ],
   "source": [
    "(bootstrap_sample_means_male < bootstrap_sample_means_female).mean()"
   ]
  },
  {
   "cell_type": "code",
   "execution_count": 267,
   "metadata": {},
   "outputs": [
    {
     "name": "stdout",
     "output_type": "stream",
     "text": [
      "95% of the time the mean will fall within $62.9 and $64.88.\n"
     ]
    }
   ],
   "source": [
    "m_low_ptl = round(np.percentile(a=bootstrap_sample_means_male, q=2.5), 2)\n",
    "m_high_ptl = round(np.percentile(a=bootstrap_sample_means_male, q=97.5), 2)\n",
    "\n",
    "m_interval = (f\"${m_low_ptl} and ${m_high_ptl}\")\n",
    "print(f\"\"\"95% of the time the mean will fall within {m_interval}.\"\"\")"
   ]
  },
  {
   "cell_type": "code",
   "execution_count": 269,
   "metadata": {},
   "outputs": [
    {
     "name": "stdout",
     "output_type": "stream",
     "text": [
      "95% of the time the mean will fall within $64.43 and $66.48.\n"
     ]
    }
   ],
   "source": [
    "f_low_ptl = round(np.percentile(a=bootstrap_sample_means_female, q=2.5), 2)\n",
    "f_high_ptl = round(np.percentile(a=bootstrap_sample_means_female, q=97.5), 2)\n",
    "\n",
    "f_interval = (f\"${f_low_ptl} and ${f_high_ptl}\")\n",
    "print(f\"\"\"95% of the time the mean will fall within {f_interval}.\"\"\")"
   ]
  },
  {
   "cell_type": "markdown",
   "metadata": {},
   "source": [
    "# Null Hypothesis \n",
    "- male and female pays same amount of monthly telcom bill  "
   ]
  },
  {
   "cell_type": "markdown",
   "metadata": {},
   "source": [
    "# Alternative Hypothesis\n",
    "- male pays more or less for monthly telcom bill"
   ]
  },
  {
   "cell_type": "code",
   "execution_count": 251,
   "metadata": {},
   "outputs": [],
   "source": [
    "female_monthlycharges_mean = female_df.MonthlyCharges.mean()\n",
    "female_monthlycharges_std = female_df.MonthlyCharges.std()\n",
    "male_monthlycharges_mean = male_df.MonthlyCharges.mean()\n",
    "male_monthlycharges_std = male_df.MonthlyCharges.std()"
   ]
  },
  {
   "cell_type": "code",
   "execution_count": 261,
   "metadata": {},
   "outputs": [
    {
     "name": "stdout",
     "output_type": "stream",
     "text": [
      "65.20424311926605\n",
      "64.32748241912799\n"
     ]
    }
   ],
   "source": [
    "print(female_monthlycharges_mean)\n",
    "print(male_monthlycharges_mean)"
   ]
  },
  {
   "cell_type": "code",
   "execution_count": 255,
   "metadata": {},
   "outputs": [],
   "source": [
    "effect_size = (female_monthlycharges_mean - male_monthlycharges_mean) / ((male_monthlycharges_std + female_monthlycharges_std) / 2)\n",
    "\n"
   ]
  },
  {
   "cell_type": "code",
   "execution_count": 258,
   "metadata": {},
   "outputs": [
    {
     "data": {
      "text/plain": [
       "30.088716908909177"
      ]
     },
     "execution_count": 258,
     "metadata": {},
     "output_type": "execute_result"
    }
   ],
   "source": [
    "((male_monthlycharges_std + female_monthlycharges_std) / 2)"
   ]
  },
  {
   "cell_type": "code",
   "execution_count": 259,
   "metadata": {},
   "outputs": [
    {
     "data": {
      "text/plain": [
       "0.029139185389406148"
      ]
     },
     "execution_count": 259,
     "metadata": {},
     "output_type": "execute_result"
    }
   ],
   "source": [
    "effect_size"
   ]
  },
  {
   "cell_type": "code",
   "execution_count": 270,
   "metadata": {},
   "outputs": [
    {
     "name": "stdout",
     "output_type": "stream",
     "text": [
      "Sample Size: 18488.614\n"
     ]
    }
   ],
   "source": [
    "from statsmodels.stats.power import TTestIndPower\n",
    "# parameters for power analysis\n",
    "effect = effect_size\n",
    "alpha = 0.05\n",
    "power = 0.8\n",
    "# perform power analysis\n",
    "analysis = TTestIndPower()\n",
    "result = analysis.solve_power(effect, \n",
    "                              power=power, \n",
    "                              nobs1=None, \n",
    "                              ratio=1.0, \n",
    "                              alpha=alpha, \n",
    "                              alternative = \"two-sided\")\n",
    "print('Sample Size: %.3f' % result)\n"
   ]
  },
  {
   "cell_type": "code",
   "execution_count": null,
   "metadata": {},
   "outputs": [],
   "source": []
  },
  {
   "cell_type": "code",
   "execution_count": null,
   "metadata": {},
   "outputs": [],
   "source": []
  }
 ],
 "metadata": {
  "kernelspec": {
   "display_name": "Python [conda env:learn-env] *",
   "language": "python",
   "name": "conda-env-learn-env-py"
  },
  "language_info": {
   "codemirror_mode": {
    "name": "ipython",
    "version": 3
   },
   "file_extension": ".py",
   "mimetype": "text/x-python",
   "name": "python",
   "nbconvert_exporter": "python",
   "pygments_lexer": "ipython3",
   "version": "3.7.0"
  }
 },
 "nbformat": 4,
 "nbformat_minor": 2
}
